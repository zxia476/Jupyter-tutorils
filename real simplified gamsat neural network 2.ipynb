{
 "cells": [
  {
   "cell_type": "code",
   "execution_count": null,
   "id": "88c39542",
   "metadata": {},
   "outputs": [],
   "source": [
    "import numpy as np\n",
    "import pandas as pd\n",
    "\n",
    "data=pd.read_excel('USYD MedicineDentistry Confirmation Pages & Offers 2022 Application Cycle.xlsx')\n",
    "df=data[['What was the outcome of your application?','What is your applicant type?','If you received an offer, which campus was it for?','What was your section 1 score?','What was your section 2 score?','What was your section 3 score?']]\n",
    "df.drop(df.loc[df['What is your applicant type?']=='Rural'].index, inplace=True)\n",
    "df.drop(df.loc[df['If you received an offer, which campus was it for?']=='Dubbo'].index, inplace=True)\n",
    "\n",
    "#onehotencoding\n",
    "df['outcome']=df['What was the outcome of your application?'].map({'CSP':0,'BMP':1,'Waitlisted':2,'Rejection':3,'FFP':4})\n",
    "\n",
    "#splitting the data\n",
    "#np.random.seed(41)\n",
    "#indices=np.random.permutation(data.shape[0])\n",
    "#train_indices,test_indices=indices[:int(0.8 * data.shape[0])], indices[int(0.8 * data.shape[0]):]\n",
    "#X_train, y_train = data[train_indices], target[train_indices]\n",
    "#X_test, y_test = data[test_indices], target[test_indices]\n",
    "\n",
    "#initialising learning rate and weight:\n",
    "\n",
    "#normalising section scores:\n",
    "X=df[['What was your section 1 score?','What was your section 2 score?','What was your section 3 score?']].values\n",
    "X=(X-np.mean(X,axis=0))/np.std(X,axis=0)\n",
    "y=df['outcome'].values.reshape(-1,1)\n",
    "#print(y)\n",
    "def softmax(x):\n",
    "    e_x = np.exp(x - np.max(x, axis=1, keepdims=True))\n",
    "    return e_x / np.sum(e_x, axis=1, keepdims=True)\n",
    "def logistic_regression(X, y, num_iterations, learning_rate):\n",
    "    num_samples, num_features = X.shape\n",
    "    num_classes = y.shape[1]\n",
    "    w = np.zeros((num_features, num_classes))\n",
    "    b = np.zeros((1, num_classes))\n",
    "    for i in range(num_iterations):\n",
    "        z = np.dot(X, w) + b\n",
    "        A = softmax(z)\n",
    "        cost = -np.sum(y * np.log(A)) / num_samples\n",
    "        dw = np.dot(X.T, (A - y)) / num_samples\n",
    "        db = np.sum(A - y, axis=0) / num_samples\n",
    "        w = w - learning_rate * dw\n",
    "        b = b - learning_rate * db\n",
    "        print(cost,i)\n",
    "    return w, b\n",
    "\n",
    "# Train the logistic regression model\n",
    "w, b = logistic_regression(X, y, num_iterations=1000, learning_rate=0.01)\n",
    "#see how to plot the value, to check if hit local minima for cost. Cost/iteration cycle\n",
    "#plot cost as y and on x plot the number of iterations.\n",
    "#check matplotlib as a sidenote\n",
    "#store as an array\n",
    "print(w,b)\n",
    "\n",
    "\n",
    "#if predicted_class == 0:\n",
    "    #print(\"CSP\")\n",
    "#elif predicted_class == 1:\n",
    "    #print(\"dunno\")\n",
    "#else:\n",
    "    #print(\"rejected?\")"
   ]
  },
  {
   "cell_type": "code",
   "execution_count": 5,
   "id": "bb55c2ea",
   "metadata": {},
   "outputs": [
    {
     "name": "stdout",
     "output_type": "stream",
     "text": [
      "enter section1 score20\n",
      "enter section2 score20\n",
      "enter section3 score20\n",
      "CSP\n"
     ]
    }
   ],
   "source": [
    "S1=float(input(\"enter section1 score\"))\n",
    "S2=float(input(\"enter section2 score\"))\n",
    "S3=float(input(\"enter section3 score\"))\n",
    "x=np.array([[S1,S2,S3]])\n",
    "x_norm=(x-np.mean(X,axis=0))/np.std(X,axis=0)\n",
    "z = np.dot(x_norm, w) + b\n",
    "a = softmax(z)\n",
    "predicted_class = np.argmax(a)\n",
    "\n",
    "if predicted_class == 0:\n",
    "    print(\"CSP\")\n",
    "elif predicted_class == 1:\n",
    "    print(\"dunno\")\n",
    "else:\n",
    "    print(\"rejected?\")\n",
    "    "
   ]
  },
  {
   "cell_type": "code",
   "execution_count": null,
   "id": "0f988802",
   "metadata": {},
   "outputs": [],
   "source": []
  }
 ],
 "metadata": {
  "kernelspec": {
   "display_name": "Python 3 (ipykernel)",
   "language": "python",
   "name": "python3"
  },
  "language_info": {
   "codemirror_mode": {
    "name": "ipython",
    "version": 3
   },
   "file_extension": ".py",
   "mimetype": "text/x-python",
   "name": "python",
   "nbconvert_exporter": "python",
   "pygments_lexer": "ipython3",
   "version": "3.9.13"
  }
 },
 "nbformat": 4,
 "nbformat_minor": 5
}
